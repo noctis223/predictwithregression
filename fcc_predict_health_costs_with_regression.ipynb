{
  "cells": [
    {
      "cell_type": "code",
      "execution_count": null,
      "metadata": {
        "id": "1rRo8oNqZ-Rj"
      },
      "outputs": [],
      "source": [
        "# Import libraries. You may or may not use all of these.\n",
        "!pip install -q git+https://github.com/tensorflow/docs\n",
        "import matplotlib.pyplot as plt\n",
        "import numpy as np\n",
        "import pandas as pd\n",
        "\n",
        "try:\n",
        "  # %tensorflow_version only exists in Colab.\n",
        "  %tensorflow_version 2.x\n",
        "except Exception:\n",
        "  pass\n",
        "import tensorflow as tf\n",
        "\n",
        "from tensorflow import keras\n",
        "from tensorflow.keras import layers\n",
        "\n",
        "import tensorflow_docs as tfdocs\n",
        "import tensorflow_docs.plots\n",
        "import tensorflow_docs.modeling\n",
        "\n",
        "import numpy as np\n",
        "import pandas as pd\n",
        "\n",
        "import seaborn as sns\n",
        "import matplotlib.pyplot as plt\n",
        "\n",
        "import tensorflow as tf\n",
        "from keras import layers, Sequential, optimizers"
      ]
    },
    {
      "cell_type": "code",
      "execution_count": null,
      "metadata": {
        "id": "CiX2FI4gZtTt"
      },
      "outputs": [],
      "source": [
        "# Import data\n",
        "!wget https://cdn.freecodecamp.org/project-data/health-costs/insurance.csv\n",
        "dataset = pd.read_csv('insurance.csv')\n",
        "dataset.tail()"
      ]
    },
    {
      "cell_type": "code",
      "source": [
        "from sklearn.model_selection import train_test_split\n",
        "from sklearn.preprocessing import LabelEncoder\n",
        "\n",
        "for col in ['sex', 'smoker', 'region']:\n",
        "    print(dataset[col].unique())\n",
        "df = dataset.copy()\n",
        "\n",
        "\n",
        "# encode binary feature\n",
        "df['sex'].replace({'male': 1, 'female': 0}, inplace=True)\n",
        "df['smoker'].replace({'yes': 1, 'no': 0}, inplace=True)\n",
        "df"
      ],
      "metadata": {
        "id": "DZ4RT0JNMIdh"
      },
      "execution_count": null,
      "outputs": []
    },
    {
      "cell_type": "code",
      "source": [
        "\n",
        "fig, axes = plt.subplots(1, 4, figsize=(20, 4))\n",
        "\n",
        "sns.boxplot(x='age', data=df, ax=axes[0])\n",
        "sns.boxplot(x='bmi', data=df, ax=axes[1])\n",
        "sns.boxplot(x='children', data=df, ax=axes[2])\n",
        "sns.boxplot(x='expenses', data=df, ax=axes[3])\n",
        "\n",
        "plt.show()"
      ],
      "metadata": {
        "id": "G5eapbdx9H1E"
      },
      "execution_count": null,
      "outputs": []
    },
    {
      "cell_type": "code",
      "source": [
        "train_dataset = df.sample(frac=0.8, random_state=0)\n",
        "test_dataset = df.drop(train_dataset.index)\n",
        "\n",
        "train_labels = train_dataset.pop('expenses')\n",
        "test_labels = test_dataset.pop('expenses')\n"
      ],
      "metadata": {
        "id": "uR-gHMAm7Td1"
      },
      "execution_count": null,
      "outputs": []
    },
    {
      "cell_type": "markdown",
      "source": [
        "BUILD A MODEL"
      ],
      "metadata": {
        "id": "L7YV749Q-Axw"
      }
    },
    {
      "cell_type": "code",
      "source": [
        "binary_feature = ['sex', 'smoker']\n",
        "categorical_feature = ['region']\n",
        "\n",
        "\n",
        "inputs = {}\n",
        "for name, column in train_dataset.items():\n",
        "    if type(column[0]) == str:\n",
        "        dtype = tf.string\n",
        "    elif (name in categorical_feature or\n",
        "          name in binary_feature):\n",
        "        dtype = tf.int64\n",
        "    else:\n",
        "        dtype = tf.float32\n",
        "    inputs[name] = tf.keras.Input(shape=(), name=name, dtype=dtype)\n",
        "\n",
        "\n",
        "inputs\n",
        "\n"
      ],
      "metadata": {
        "id": "_DxTLATY99vQ"
      },
      "execution_count": null,
      "outputs": []
    },
    {
      "cell_type": "code",
      "source": [
        "preprocessed = []\n",
        "\n",
        "for name in binary_feature:\n",
        "    inp = inputs[name]\n",
        "    inp = inp[:, tf.newaxis]\n",
        "    float_value = tf.cast(inp, tf.float32)\n",
        "    preprocessed.append(float_value)\n",
        "\n",
        "preprocessed\n"
      ],
      "metadata": {
        "id": "B7F0X_b2AEuC"
      },
      "execution_count": null,
      "outputs": []
    },
    {
      "cell_type": "code",
      "source": [
        "def stack_dict(inputs, fun=tf.stack):\n",
        "    values = []\n",
        "    for key in sorted(inputs.keys()):\n",
        "        values.append(tf.cast(inputs[key], tf.float32))\n",
        "    return fun(values, axis=-1)\n",
        "\n",
        "\n",
        "numeric_feature_names = ['age', 'bmi', 'children']\n",
        "numeric_features = train_dataset[numeric_feature_names]\n",
        "normalizer = tf.keras.layers.Normalization(axis=-1)\n",
        "normalizer.adapt(stack_dict(dict(numeric_features)))\n",
        "\n",
        "\n",
        "# Stacks the numeric features and runs them through the normalization layer\n",
        "numeric_inputs = {}\n",
        "for name in numeric_feature_names:\n",
        "    numeric_inputs[name]=inputs[name]\n",
        "\n",
        "numeric_inputs = stack_dict(numeric_inputs)\n",
        "numeric_normalized = normalizer(numeric_inputs)\n",
        "preprocessed.append(numeric_normalized)\n",
        "\n",
        "preprocessed"
      ],
      "metadata": {
        "id": "8Lw3hrBoBAxL"
      },
      "execution_count": null,
      "outputs": []
    },
    {
      "cell_type": "code",
      "source": [
        "name = categorical_feature[0]\n",
        "vocab = sorted(set(train_dataset[name]))\n",
        "print(f'name: {name}')\n",
        "print(f'vocab: {vocab}\\n')\n",
        "\n",
        "lookup = tf.keras.layers.StringLookup(vocabulary=vocab, output_mode='one_hot')\n",
        "x = inputs[name][:, tf.newaxis]\n",
        "x = lookup(x)\n",
        "preprocessed.append(x)"
      ],
      "metadata": {
        "id": "lq9WBtKBBClF"
      },
      "execution_count": null,
      "outputs": []
    },
    {
      "cell_type": "code",
      "source": [
        "\n",
        "# Assemble the preprocessing head\n",
        "preprocesssed_result = tf.concat(preprocessed, axis=-1)\n",
        "preprocesssed_result\n",
        "preprocessor = tf.keras.Model(inputs, preprocesssed_result)\n",
        "preprocessor(dict(train_dataset.iloc[:1]))\n",
        "\n",
        "body = Sequential([\n",
        "    layers.Dense(256, activation='relu'),\n",
        "    layers.Dropout(0.5),\n",
        "    layers.Dense(128, activation='relu'),\n",
        "    layers.Dropout(0.5),\n",
        "    layers.Dense(1)\n",
        "])\n",
        "\n",
        "\n",
        "\n",
        "x = preprocessor(inputs)\n",
        "output = body(x)\n",
        "model = tf.keras.Model(inputs, output)\n",
        "\n",
        ""
      ],
      "metadata": {
        "id": "3i5994_V-lVS"
      },
      "execution_count": null,
      "outputs": []
    },
    {
      "cell_type": "code",
      "source": [
        "\n",
        "model.compile(\n",
        "    optimizer=optimizers.Adam(learning_rate=0.1),\n",
        "    loss='mean_absolute_error'\n",
        ")\n",
        "\n",
        "history = model.fit(\n",
        "    dict(train_dataset),\n",
        "    train_labels,\n",
        "    epochs=30,\n",
        "    verbose=1,\n",
        "    validation_split = 0.2\n",
        ")"
      ],
      "metadata": {
        "id": "Ditu9kNv_Gr7"
      },
      "execution_count": null,
      "outputs": []
    },
    {
      "cell_type": "code",
      "source": [
        "\n",
        "def plot_loss(history):\n",
        "    plt.plot(history.history['loss'], label='loss', color='blue')\n",
        "    plt.plot(history.history['val_loss'], label='val_loss', color='red')\n",
        "    plt.xlabel('Epoch')\n",
        "    plt.ylabel('Error')\n",
        "    plt.ylim(bottom=0)\n",
        "    plt.locator_params(integer=True)\n",
        "    plt.legend()\n",
        "\n",
        "plt.figure(figsize=(6, 6))\n",
        "plot_loss(history)"
      ],
      "metadata": {
        "id": "CyNvS9aZ_Wq7"
      },
      "execution_count": null,
      "outputs": []
    },
    {
      "cell_type": "code",
      "execution_count": null,
      "metadata": {
        "id": "Xe7RXH3N3CWU"
      },
      "outputs": [],
      "source": [
        "# RUN THIS CELL TO TEST YOUR MODEL. DO NOT MODIFY CONTENTS.\n",
        "# Test model by checking how well the model generalizes using the test set.\n",
        "mae = model.evaluate(dict(test_dataset), test_labels, verbose=2)\n",
        "\n",
        "print(\"Testing set Mean Abs Error: {:5.2f} expenses\".format(mae))\n",
        "\n",
        "if mae < 3500:\n",
        "  print(\"You passed the challenge. Great job!\")\n",
        "else:\n",
        "  print(\"The Mean Abs Error must be less than 3500. Keep trying.\")\n",
        "\n",
        "# Plot predictions.\n",
        "test_predictions = model.predict(dict(test_dataset)).flatten()\n",
        "\n",
        "a = plt.axes(aspect='equal')\n",
        "plt.scatter(test_labels, test_predictions)\n",
        "plt.xlabel('True values (expenses)')\n",
        "plt.ylabel('Predictions (expenses)')\n",
        "lims = [0, 50000]\n",
        "plt.xlim(lims)\n",
        "plt.ylim(lims)\n",
        "_ = plt.plot(lims,lims)\n"
      ]
    }
  ],
  "metadata": {
    "colab": {
      "name": "fcc_predict_health_costs_with_regression.ipynb",
      "private_outputs": true,
      "provenance": [],
      "toc_visible": true
    },
    "kernelspec": {
      "display_name": "Python 3",
      "name": "python3"
    }
  },
  "nbformat": 4,
  "nbformat_minor": 0
}